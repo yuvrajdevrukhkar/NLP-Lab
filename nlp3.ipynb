{
  "nbformat": 4,
  "nbformat_minor": 0,
  "metadata": {
    "colab": {
      "provenance": [],
      "authorship_tag": "ABX9TyPVh4xrFEqHs+CH5Cm7jeZi",
      "include_colab_link": true
    },
    "kernelspec": {
      "name": "python3",
      "display_name": "Python 3"
    },
    "language_info": {
      "name": "python"
    }
  },
  "cells": [
    {
      "cell_type": "markdown",
      "metadata": {
        "id": "view-in-github",
        "colab_type": "text"
      },
      "source": [
        "<a href=\"https://colab.research.google.com/github/yuvrajdevrukhkar/NLP-Lab/blob/main/nlp3.ipynb\" target=\"_parent\"><img src=\"https://colab.research.google.com/assets/colab-badge.svg\" alt=\"Open In Colab\"/></a>"
      ]
    },
    {
      "cell_type": "code",
      "execution_count": null,
      "metadata": {
        "colab": {
          "base_uri": "https://localhost:8080/"
        },
        "id": "07lTbTjMtcdW",
        "outputId": "d273e118-ea86-4d22-e165-7bf751a580d1"
      },
      "outputs": [
        {
          "output_type": "stream",
          "name": "stderr",
          "text": [
            "[nltk_data] Downloading package punkt to /root/nltk_data...\n",
            "[nltk_data]   Unzipping tokenizers/punkt.zip.\n",
            "[nltk_data] Downloading package wordnet to /root/nltk_data...\n",
            "[nltk_data] Downloading package stopwords to /root/nltk_data...\n",
            "[nltk_data]   Unzipping corpora/stopwords.zip.\n"
          ]
        }
      ],
      "source": [
        "import nltk\n",
        "import re\n",
        "import pandas as pd\n",
        "from nltk.corpus import stopwords\n",
        "from nltk.stem import WordNetLemmatizer\n",
        "from sklearn.preprocessing import LabelEncoder\n",
        "from sklearn.feature_extraction.text import TfidfVectorizer\n",
        "\n",
        "nltk.download('punkt')\n",
        "nltk.download('wordnet')\n",
        "nltk.download('stopwords')\n",
        "\n",
        "# Sample paragraph\n",
        "paragraph = \"\"\"I have three visions for India. In 3000 years of our history, people from all over\n",
        "               the world have come and invaded us, captured our lands, conquered our minds.\n",
        "               From Alexander onwards, the Greeks, the Turks, the Moguls, the Portuguese, the British,\n",
        "               the French, the Dutch, all of them came and looted us, took over what was ours.\n",
        "               Yet we have not done this to any other nation. We have not conquered anyone.\n",
        "               We have not grabbed their land, their culture,\n",
        "               their history and tried to enforce our way of life on them.\n",
        "               Why? Because we respect the freedom of others.That is why my\n",
        "               first vision is that of freedom. I believe that India got its first vision of\n",
        "               this in 1857, when we started the War of Independence. It is this freedom that\n",
        "               we must protect and nurture and build on. If we are not free, no one will respect us.\n",
        "               My second vision for India’s development. For fifty years we have been a developing nation.\n",
        "               It is time we see ourselves as a developed nation. We are among the top 5 nations of the world\n",
        "               in terms of GDP. We have a 10 percent growth rate in most areas. Our poverty levels are falling.\n",
        "               Our achievements are being globally recognised today. Yet we lack the self-confidence to\n",
        "               see ourselves as a developed nation, self-reliant and self-assured. Isn’t this incorrect?\n",
        "               I have a third vision. India must stand up to the world. Because I believe that unless India\n",
        "               stands up to the world, no one will respect us. Only strength respects strength. We must be\n",
        "               strong not only as a military power but also as an economic power. Both must go hand-in-hand.\n",
        "               My good fortune was to have worked with three great minds. Dr. Vikram Sarabhai of the Dept. of\n",
        "               space, Professor Satish Dhawan, who succeeded him and Dr. Brahm Prakash, father of nuclear material.\n",
        "               I was lucky to have worked with all three of them closely and consider this the great opportunity of my life.\n",
        "               I see four milestones in my career\"\"\"\n",
        "\n",
        "# Tokenize paragraph into sentences\n",
        "sentences = nltk.sent_tokenize(paragraph)\n",
        "\n",
        "# Initialize WordNet lemmatizer and label encoder\n",
        "wordnet_lemmatizer = WordNetLemmatizer()\n",
        "label_encoder = LabelEncoder()\n",
        "\n",
        "# Clean, preprocess, and lemmatize sentences\n",
        "corpus = []\n",
        "for sentence in sentences:\n",
        "    # Clean and preprocess text\n",
        "    cleaned_text = re.sub('[^a-zA-Z]', ' ', sentence)\n",
        "    cleaned_text = cleaned_text.lower()\n",
        "    cleaned_text = cleaned_text.split()\n",
        "    cleaned_text = [wordnet_lemmatizer.lemmatize(word) for word in cleaned_text if word not in set(stopwords.words('english'))]\n",
        "    cleaned_text = ' '.join(cleaned_text)\n",
        "    corpus.append(cleaned_text)\n",
        "\n",
        "# Perform label encoding for sentences\n",
        "labels = ['vision']*len(corpus)  # Example labels, assuming all sentences are related to 'vision'\n",
        "encoded_labels = label_encoder.fit_transform(labels)\n",
        "\n",
        "# Creating the TF-IDF model\n",
        "tfidf_vectorizer = TfidfVectorizer()\n",
        "X_tfidf = tfidf_vectorizer.fit_transform(corpus).toarray()\n",
        "\n",
        "# Convert TF-IDF representation and labels to DataFrame\n",
        "df_tfidf = pd.DataFrame(X_tfidf, columns=tfidf_vectorizer.get_feature_names_out())\n",
        "df_labels = pd.DataFrame({'label': encoded_labels})\n",
        "\n",
        "# Concatenate TF-IDF representation and labels\n",
        "df_output = pd.concat([df_labels, df_tfidf], axis=1)\n",
        "\n",
        "# Save outputs to CSV files\n",
        "df_output.to_csv('tfidf_representation.csv', index=False)\n"
      ]
    },
    {
      "cell_type": "code",
      "source": [
        "# Save outputs to CSV files\n",
        "df_output.to_csv('tfidf_representation.csv', index=False)\n"
      ],
      "metadata": {
        "id": "MmF1GCbRtrR6"
      },
      "execution_count": null,
      "outputs": []
    }
  ]
}