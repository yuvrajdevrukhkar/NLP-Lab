{
  "cells": [
    {
      "cell_type": "markdown",
      "metadata": {
        "id": "view-in-github",
        "colab_type": "text"
      },
      "source": [
        "<a href=\"https://colab.research.google.com/github/yuvrajdevrukhkar/NLP-Lab/blob/main/POS_tagger_Marathi.ipynb\" target=\"_parent\"><img src=\"https://colab.research.google.com/assets/colab-badge.svg\" alt=\"Open In Colab\"/></a>"
      ]
    },
    {
      "cell_type": "markdown",
      "metadata": {
        "id": "dASN7S2FFaL7"
      },
      "source": [
        "Implement POS tagging for simple sentences written in Marathi Language"
      ]
    },
    {
      "cell_type": "markdown",
      "metadata": {
        "id": "RNZoUhS0FaL9"
      },
      "source": [
        "### Step 1: Necessary Dependancies"
      ]
    },
    {
      "cell_type": "code",
      "execution_count": 5,
      "metadata": {
        "colab": {
          "base_uri": "https://localhost:8080/"
        },
        "id": "GVsHgI9yFaL-",
        "outputId": "6aeb8d58-d4bb-443d-a690-0dd4df355b7e"
      },
      "outputs": [
        {
          "output_type": "stream",
          "name": "stderr",
          "text": [
            "[nltk_data] Downloading package indian to /root/nltk_data...\n",
            "[nltk_data]   Package indian is already up-to-date!\n"
          ]
        },
        {
          "output_type": "execute_result",
          "data": {
            "text/plain": [
              "True"
            ]
          },
          "metadata": {},
          "execution_count": 5
        }
      ],
      "source": [
        "import nltk\n",
        "import pandas as pd\n",
        "\n",
        "from nltk import word_tokenize\n",
        "from nltk.tag import untag\n",
        "from nltk import UnigramTagger\n",
        "\n",
        "pd.set_option('display.max_columns', None)\n",
        "pd.set_option('display.expand_frame_repr', False)\n",
        "pd.set_option('max_colwidth', None)\n",
        "\n",
        "from nltk.corpus import indian\n",
        "nltk.download('indian')"
      ]
    },
    {
      "cell_type": "markdown",
      "metadata": {
        "id": "Kj-IswRqFaMA"
      },
      "source": [
        "### Step 2: Load Data"
      ]
    },
    {
      "cell_type": "code",
      "execution_count": 6,
      "metadata": {
        "id": "2AAR8HnQFaMA"
      },
      "outputs": [],
      "source": [
        "tagged_set = 'marathi.pos'\n",
        "articles = indian.sents(tagged_set)"
      ]
    },
    {
      "cell_type": "code",
      "execution_count": 7,
      "metadata": {
        "colab": {
          "base_uri": "https://localhost:8080/"
        },
        "id": "OI0FdJfoFaMB",
        "outputId": "dd7d1f82-af55-4b2e-951c-36cddf00a3bd"
      },
      "outputs": [
        {
          "output_type": "stream",
          "name": "stdout",
          "text": [
            "''\n",
            "सनातनवाद्यांनी\n",
            "व\n",
            "प्रतिगाम्यांनी\n",
            "समाज\n",
            "रसातळाला\n",
            "नेला\n",
            "असताना\n",
            "या\n",
            "अंधारात\n",
            "बाळशास्त्री\n",
            "जांभेकर\n",
            "यांनी\n",
            "'दर्पण'च्या\n",
            "माध्यमातून\n",
            "पहिली\n",
            "ज्ञानज्योत\n",
            "तेववली\n",
            ",\n",
            "''\n",
            "असे\n",
            "प्रतिपादन\n",
            "नटसम्राट\n",
            "प्रभाकर\n",
            "पणशीकर\n",
            "यांनी\n",
            "केले\n",
            ".\n"
          ]
        }
      ],
      "source": [
        "count = 0\n",
        "for sentence in articles[0]:\n",
        "    print(sentence)     #View the dataset"
      ]
    },
    {
      "cell_type": "code",
      "execution_count": 8,
      "metadata": {
        "id": "5nnA1uuYFaMB"
      },
      "outputs": [],
      "source": [
        "count=len(articles)  #Size of dataset"
      ]
    },
    {
      "cell_type": "markdown",
      "metadata": {
        "id": "zxd5D5O8FaMC"
      },
      "source": [
        "\n",
        "\n",
        "We could therefore find POS tags for 1197 sentences.\n",
        "\n",
        "\n",
        "Lets view the first article...\n"
      ]
    },
    {
      "cell_type": "code",
      "execution_count": 9,
      "metadata": {
        "colab": {
          "base_uri": "https://localhost:8080/",
          "height": 53
        },
        "id": "LTCQszeYFaMC",
        "outputId": "29f9d740-a872-4e2e-f008-f054c4c2955c"
      },
      "outputs": [
        {
          "output_type": "execute_result",
          "data": {
            "text/plain": [
              "\"'' सनातनवाद्यांनी व प्रतिगाम्यांनी समाज रसातळाला नेला असताना या अंधारात बाळशास्त्री जांभेकर यांनी 'दर्पण'च्या माध्यमातून पहिली ज्ञानज्योत तेववली , '' असे प्रतिपादन नटसम्राट प्रभाकर पणशीकर यांनी केले .\""
            ],
            "application/vnd.google.colaboratory.intrinsic+json": {
              "type": "string"
            }
          },
          "metadata": {},
          "execution_count": 9
        }
      ],
      "source": [
        "sentence1 = \" \".join(articles[0])\n",
        "sentence1"
      ]
    },
    {
      "cell_type": "code",
      "execution_count": 10,
      "metadata": {
        "colab": {
          "base_uri": "https://localhost:8080/"
        },
        "id": "pFeNFzQ-FaMD",
        "outputId": "f40b6416-8d98-404b-f19e-9d8ed219eb6a"
      },
      "outputs": [
        {
          "output_type": "stream",
          "name": "stdout",
          "text": [
            "1197\n"
          ]
        }
      ],
      "source": [
        "print(count)"
      ]
    },
    {
      "cell_type": "markdown",
      "metadata": {
        "id": "oKfY00guFaMD"
      },
      "source": [
        "### Step 3: Split dataset into training and testing"
      ]
    },
    {
      "cell_type": "code",
      "execution_count": 11,
      "metadata": {
        "colab": {
          "base_uri": "https://localhost:8080/"
        },
        "id": "p0y_5HaCFaMD",
        "outputId": "06e5654a-8213-45fe-ac3b-eba24346c26b"
      },
      "outputs": [
        {
          "output_type": "stream",
          "name": "stdout",
          "text": [
            "1077 1078\n"
          ]
        }
      ],
      "source": [
        "train_perc = .9\n",
        "train_rows = int(train_perc*count)\n",
        "test_rows = train_rows + 1\n",
        "print(train_rows,test_rows)"
      ]
    },
    {
      "cell_type": "code",
      "execution_count": 12,
      "metadata": {
        "id": "UtsSKB3RFaMD"
      },
      "outputs": [],
      "source": [
        "\n",
        "data = indian.tagged_sents(tagged_set)\n",
        "train_data = data[:train_rows]\n",
        "test_data = data[test_rows:]\n"
      ]
    },
    {
      "cell_type": "markdown",
      "metadata": {
        "id": "aczndhdhFaME"
      },
      "source": [
        "### Step 4: Training the model"
      ]
    },
    {
      "cell_type": "markdown",
      "metadata": {
        "id": "RI_l6VFXFaME"
      },
      "source": [
        "The Unigram tagger (n-gram, n = 1) is a simple statistical tagging algorithm. For each token, it assigns the tag that is most likely for that token. For example, it will\n",
        "assign the tag ‘adj’ to any occurrence of the word ‘frequent’, since ‘frequent’ is used as an adjective (e.g. a frequent word) more often than it is used as a verb (e.g. I\n",
        "frequent this cafe).\n"
      ]
    },
    {
      "cell_type": "markdown",
      "metadata": {
        "id": "NwDh7Hy6FaME"
      },
      "source": [
        "#### Simple unigram model without backoff tagger"
      ]
    },
    {
      "cell_type": "code",
      "execution_count": 13,
      "metadata": {
        "colab": {
          "base_uri": "https://localhost:8080/"
        },
        "id": "_S0vWK08FaME",
        "outputId": "c9864753-8251-4340-f8d6-2a91d26e0804"
      },
      "outputs": [
        {
          "output_type": "execute_result",
          "data": {
            "text/plain": [
              "[('ज्या', 'PRP'),\n",
              " ('देशवासीयांकडे', None),\n",
              " ('केबल', 'NN'),\n",
              " ('नाही', 'VAUX'),\n",
              " (',', 'SYM'),\n",
              " ('त्यांना', 'PRP'),\n",
              " ('सात', 'QC'),\n",
              " ('मिनिटे', 'NN'),\n",
              " ('उशिरा', None),\n",
              " ('सामना', 'NN'),\n",
              " ('दाखवावा', None),\n",
              " ('लागत', 'VAUX'),\n",
              " ('असल्याने', 'VM'),\n",
              " ('निंबस', 'NNP'),\n",
              " ('अन्याय', 'NN'),\n",
              " ('करत', 'VM'),\n",
              " ('असल्याचे', 'VAUX'),\n",
              " ('मत', 'NN'),\n",
              " ('त्यांनी', 'PRP'),\n",
              " ('व्यक्त', 'JJ'),\n",
              " ('केले', 'VM'),\n",
              " ('होते', 'VAUX'),\n",
              " (';', 'SYM'),\n",
              " ('तसेच', 'CC'),\n",
              " ('त्याच', 'DEM'),\n",
              " ('वेळी', 'NN'),\n",
              " ('सरकारी', 'JJ'),\n",
              " ('पातळीवर', 'NN'),\n",
              " ('एक', 'QC'),\n",
              " ('विधेयक', 'NN'),\n",
              " ('मांडण्याचाही', None),\n",
              " ('विचार', 'NN'),\n",
              " ('बोलून', 'VM'),\n",
              " ('दाखविला', 'VAUX'),\n",
              " ('होता', 'VAUX'),\n",
              " ('.', 'SYM')]"
            ]
          },
          "metadata": {},
          "execution_count": 13
        }
      ],
      "source": [
        "# Train the unigram model\n",
        "unigram_tag = UnigramTagger(train_data)\n",
        "\n",
        "# Test it on a single sentence\n",
        "unigram_tag.tag(untag(test_data[0]))"
      ]
    },
    {
      "cell_type": "code",
      "execution_count": 14,
      "metadata": {
        "colab": {
          "base_uri": "https://localhost:8080/"
        },
        "id": "OS7aGZZ1FaMF",
        "outputId": "54a82e02-c14e-4545-f0c1-481dba8b05ac"
      },
      "outputs": [
        {
          "output_type": "stream",
          "name": "stderr",
          "text": [
            "<ipython-input-14-d8fa693e3b9f>:1: DeprecationWarning: \n",
            "  Function evaluate() has been deprecated.  Use accuracy(gold)\n",
            "  instead.\n",
            "  unigram_tag.evaluate(test_data)   # Evaluation of model\n"
          ]
        },
        {
          "output_type": "execute_result",
          "data": {
            "text/plain": [
              "0.5846774193548387"
            ]
          },
          "metadata": {},
          "execution_count": 14
        }
      ],
      "source": [
        "unigram_tag.evaluate(test_data)   # Evaluation of model"
      ]
    },
    {
      "cell_type": "markdown",
      "metadata": {
        "id": "2PBBUK6SFaMF"
      },
      "source": [
        "#### Combining unigram tagger with backoff tagging"
      ]
    },
    {
      "cell_type": "markdown",
      "metadata": {
        "id": "1gnJv7ITFaMF"
      },
      "source": [
        "Many words have been assigned a tag of 'None' because they were not among the most frequent words. It can pass the word on to the next backoff tagger. In these case, we assign 'Defualt Tag' of 'NN'.\n",
        "Here Default Tagger used backoff tagger."
      ]
    },
    {
      "cell_type": "code",
      "execution_count": 15,
      "metadata": {
        "colab": {
          "base_uri": "https://localhost:8080/"
        },
        "id": "LlNMpl8PFaMF",
        "outputId": "8d302c1e-a6db-4cf7-93e1-1b9a0c0264e0"
      },
      "outputs": [
        {
          "output_type": "execute_result",
          "data": {
            "text/plain": [
              "[('ज्या', 'PRP'),\n",
              " ('देशवासीयांकडे', 'NN'),\n",
              " ('केबल', 'NN'),\n",
              " ('नाही', 'VAUX'),\n",
              " (',', 'SYM'),\n",
              " ('त्यांना', 'PRP'),\n",
              " ('सात', 'QC'),\n",
              " ('मिनिटे', 'NN'),\n",
              " ('उशिरा', 'NN'),\n",
              " ('सामना', 'NN'),\n",
              " ('दाखवावा', 'NN'),\n",
              " ('लागत', 'VAUX'),\n",
              " ('असल्याने', 'VM'),\n",
              " ('निंबस', 'NNP'),\n",
              " ('अन्याय', 'NN'),\n",
              " ('करत', 'VM'),\n",
              " ('असल्याचे', 'VAUX'),\n",
              " ('मत', 'NN'),\n",
              " ('त्यांनी', 'PRP'),\n",
              " ('व्यक्त', 'JJ'),\n",
              " ('केले', 'VM'),\n",
              " ('होते', 'VAUX'),\n",
              " (';', 'SYM'),\n",
              " ('तसेच', 'CC'),\n",
              " ('त्याच', 'DEM'),\n",
              " ('वेळी', 'NN'),\n",
              " ('सरकारी', 'JJ'),\n",
              " ('पातळीवर', 'NN'),\n",
              " ('एक', 'QC'),\n",
              " ('विधेयक', 'NN'),\n",
              " ('मांडण्याचाही', 'NN'),\n",
              " ('विचार', 'NN'),\n",
              " ('बोलून', 'VM'),\n",
              " ('दाखविला', 'VAUX'),\n",
              " ('होता', 'VAUX'),\n",
              " ('.', 'SYM')]"
            ]
          },
          "metadata": {},
          "execution_count": 15
        }
      ],
      "source": [
        "\n",
        "# Train the unigram model\n",
        "unigram_tagger = UnigramTagger(train_data,backoff=nltk.DefaultTagger('NN'))\n",
        "\n",
        "# Test it on a single sentence\n",
        "unigram_tagger.tag(untag(test_data[0]))\n"
      ]
    },
    {
      "cell_type": "code",
      "execution_count": 16,
      "metadata": {
        "colab": {
          "base_uri": "https://localhost:8080/"
        },
        "id": "1tBt95p8FaMF",
        "outputId": "b01a3a13-ea59-450c-e8e3-b8f2320ec17c"
      },
      "outputs": [
        {
          "output_type": "stream",
          "name": "stderr",
          "text": [
            "<ipython-input-16-1de5a2157274>:1: DeprecationWarning: \n",
            "  Function evaluate() has been deprecated.  Use accuracy(gold)\n",
            "  instead.\n",
            "  unigram_tagger.evaluate(test_data)  #Evaluation of new model\n"
          ]
        },
        {
          "output_type": "execute_result",
          "data": {
            "text/plain": [
              "0.7240783410138248"
            ]
          },
          "metadata": {},
          "execution_count": 16
        }
      ],
      "source": [
        "unigram_tagger.evaluate(test_data)  #Evaluation of new model"
      ]
    },
    {
      "cell_type": "markdown",
      "metadata": {
        "id": "JXzF4aX4FaMF"
      },
      "source": [
        "Accuracy of model has been increased from 58% to 72%"
      ]
    },
    {
      "cell_type": "markdown",
      "metadata": {
        "id": "r7NAixd4FaMG"
      },
      "source": [
        "### Step 5: Formatting results into a table"
      ]
    },
    {
      "cell_type": "code",
      "execution_count": 17,
      "metadata": {
        "id": "Jayio8gYFaMG"
      },
      "outputs": [],
      "source": [
        "#Generalized function that would return the POS tags in a structured table format\n",
        "from collections import defaultdict\n",
        "\n",
        "def get_POS(article):\n",
        "\n",
        "    POS = {}\n",
        "\n",
        "    word_tags = unigram_tagger.tag(article)\n",
        "    for word, tag in word_tags:\n",
        "        if tag not in POS:\n",
        "            POS[tag] = [word]\n",
        "        else:\n",
        "            POS[tag].append(word)\n",
        "\n",
        "    DF = {'Tags':[], 'Words':[], 'Count':[]}\n",
        "\n",
        "\n",
        "    for k in POS:\n",
        "        DF['Tags'].append(k)\n",
        "        DF['Words'].append(\" \".join(POS[k]))\n",
        "        DF['Count'].append(len(POS[k]))\n",
        "\n",
        "    return pd.DataFrame(DF)"
      ]
    },
    {
      "cell_type": "markdown",
      "metadata": {
        "id": "dvkjgzK-FaMG"
      },
      "source": [
        "\n",
        "\n",
        "Testing on External article\n"
      ]
    },
    {
      "cell_type": "code",
      "execution_count": 18,
      "metadata": {
        "id": "raN-6WO9FaMG"
      },
      "outputs": [],
      "source": [
        "list='डॉ. मानसी शिरीष कणेकर  या मराठी लेखिका, कवयित्री व गायिका होत्या. कणेकर संजीवनी मराठे यांची मुलगी होत. त्यांचे पती अनिल हवालदार आणि शिरीष कणेकर हे दोघेही लेखक होत. मानसी कणेकर यांचे इंग्रजी, मराठी, संस्कृत आणि उर्दू या भाषांवर प्रभुत्व होते. त्या गझल लिहीत आणि गातही. मानसी कणेकर यांनी २९व्या वर्षी अनुवादशास्त्रात पीएच.डी. मिळवली होती. लॉर्का या प्रसिद्ध स्पॅनिश नाटककाराची तीन नाटके त्यांनी मराठीत अनुवादित केली होती. त्यांनी ज्ञानेश्वरांच्या अभंगांचे आशयलेखन केले. सिम्बोलिझम या विषयाचा त्यांचा अभ्यास असून त्यांच्या पुस्तकांतून आध्यात्मिक चित्रकार शिवानंद यांची प्रतीकात्मक चित्रे असत.'"
      ]
    },
    {
      "cell_type": "code",
      "execution_count": 20,
      "metadata": {
        "colab": {
          "base_uri": "https://localhost:8080/",
          "height": 432
        },
        "id": "zfbdJrnLFaMG",
        "outputId": "724d3460-7cef-4d22-d191-6dc9ba8f15ce"
      },
      "outputs": [
        {
          "output_type": "stream",
          "name": "stderr",
          "text": [
            "[nltk_data] Downloading package punkt to /root/nltk_data...\n",
            "[nltk_data]   Unzipping tokenizers/punkt.zip.\n"
          ]
        },
        {
          "output_type": "execute_result",
          "data": {
            "text/plain": [
              "   Tags                                                                                                                                                                                                                                                                                                                                                                                          Words  Count\n",
              "0    NN  डॉ मानसी शिरीष कणेकर लेखिका कवयित्री गायिका कणेकर संजीवनी मुलगी पती हवालदार शिरीष कणेकर दोघेही लेखक मानसी कणेकर संस्कृत उर्दू भाषांवर प्रभुत्व गझल लिहीत गातही मानसी कणेकर २९व्या वर्षी अनुवादशास्त्रात पीएच.डी मिळवली लॉर्का स्पॅनिश नाटककाराची नाटके मराठीत अनुवादित ज्ञानेश्वरांच्या अभंगांचे आशयलेखन सिम्बोलिझम विषयाचा अभ्यास पुस्तकांतून आध्यात्मिक चित्रकार शिवानंद प्रतीकात्मक चित्रे     50\n",
              "1   SYM                                                                                                                                                                                                                                                                                                                                                                    . , . . . , , . . . . . . .     14\n",
              "2   DEM                                                                                                                                                                                                                                                                                                                                                                            या हे या त्या या या      6\n",
              "3    JJ                                                                                                                                                                                                                                                                                                                                                                           मराठी मराठी प्रसिद्ध      3\n",
              "4    CC                                                                                                                                                                                                                                                                                                                                                                             व अनिल आणि आणि आणि      5\n",
              "5  VAUX                                                                                                                                                                                                                                                                                                                                                                 होत्या होते होती होती असून असत      6\n",
              "6   NNP                                                                                                                                                                                                                                                                                                                                                                                  मराठे इंग्रजी      2\n",
              "7   PRP                                                                                                                                                                                                                                                                                                                              यांची त्यांचे यांचे यांनी त्यांनी त्यांनी त्यांचा त्यांच्या यांची      9\n",
              "8    VM                                                                                                                                                                                                                                                                                                                                                                              होत होत केली केले      4\n",
              "9    QC                                                                                                                                                                                                                                                                                                                                                                                            तीन      1"
            ],
            "text/html": [
              "\n",
              "  <div id=\"df-41c48db0-7b5b-43c0-803f-b9b18bb7529c\" class=\"colab-df-container\">\n",
              "    <div>\n",
              "<style scoped>\n",
              "    .dataframe tbody tr th:only-of-type {\n",
              "        vertical-align: middle;\n",
              "    }\n",
              "\n",
              "    .dataframe tbody tr th {\n",
              "        vertical-align: top;\n",
              "    }\n",
              "\n",
              "    .dataframe thead th {\n",
              "        text-align: right;\n",
              "    }\n",
              "</style>\n",
              "<table border=\"1\" class=\"dataframe\">\n",
              "  <thead>\n",
              "    <tr style=\"text-align: right;\">\n",
              "      <th></th>\n",
              "      <th>Tags</th>\n",
              "      <th>Words</th>\n",
              "      <th>Count</th>\n",
              "    </tr>\n",
              "  </thead>\n",
              "  <tbody>\n",
              "    <tr>\n",
              "      <th>0</th>\n",
              "      <td>NN</td>\n",
              "      <td>डॉ मानसी शिरीष कणेकर लेखिका कवयित्री गायिका कणेकर संजीवनी मुलगी पती हवालदार शिरीष कणेकर दोघेही लेखक मानसी कणेकर संस्कृत उर्दू भाषांवर प्रभुत्व गझल लिहीत गातही मानसी कणेकर २९व्या वर्षी अनुवादशास्त्रात पीएच.डी मिळवली लॉर्का स्पॅनिश नाटककाराची नाटके मराठीत अनुवादित ज्ञानेश्वरांच्या अभंगांचे आशयलेखन सिम्बोलिझम विषयाचा अभ्यास पुस्तकांतून आध्यात्मिक चित्रकार शिवानंद प्रतीकात्मक चित्रे</td>\n",
              "      <td>50</td>\n",
              "    </tr>\n",
              "    <tr>\n",
              "      <th>1</th>\n",
              "      <td>SYM</td>\n",
              "      <td>. , . . . , , . . . . . . .</td>\n",
              "      <td>14</td>\n",
              "    </tr>\n",
              "    <tr>\n",
              "      <th>2</th>\n",
              "      <td>DEM</td>\n",
              "      <td>या हे या त्या या या</td>\n",
              "      <td>6</td>\n",
              "    </tr>\n",
              "    <tr>\n",
              "      <th>3</th>\n",
              "      <td>JJ</td>\n",
              "      <td>मराठी मराठी प्रसिद्ध</td>\n",
              "      <td>3</td>\n",
              "    </tr>\n",
              "    <tr>\n",
              "      <th>4</th>\n",
              "      <td>CC</td>\n",
              "      <td>व अनिल आणि आणि आणि</td>\n",
              "      <td>5</td>\n",
              "    </tr>\n",
              "    <tr>\n",
              "      <th>5</th>\n",
              "      <td>VAUX</td>\n",
              "      <td>होत्या होते होती होती असून असत</td>\n",
              "      <td>6</td>\n",
              "    </tr>\n",
              "    <tr>\n",
              "      <th>6</th>\n",
              "      <td>NNP</td>\n",
              "      <td>मराठे इंग्रजी</td>\n",
              "      <td>2</td>\n",
              "    </tr>\n",
              "    <tr>\n",
              "      <th>7</th>\n",
              "      <td>PRP</td>\n",
              "      <td>यांची त्यांचे यांचे यांनी त्यांनी त्यांनी त्यांचा त्यांच्या यांची</td>\n",
              "      <td>9</td>\n",
              "    </tr>\n",
              "    <tr>\n",
              "      <th>8</th>\n",
              "      <td>VM</td>\n",
              "      <td>होत होत केली केले</td>\n",
              "      <td>4</td>\n",
              "    </tr>\n",
              "    <tr>\n",
              "      <th>9</th>\n",
              "      <td>QC</td>\n",
              "      <td>तीन</td>\n",
              "      <td>1</td>\n",
              "    </tr>\n",
              "  </tbody>\n",
              "</table>\n",
              "</div>\n",
              "    <div class=\"colab-df-buttons\">\n",
              "\n",
              "  <div class=\"colab-df-container\">\n",
              "    <button class=\"colab-df-convert\" onclick=\"convertToInteractive('df-41c48db0-7b5b-43c0-803f-b9b18bb7529c')\"\n",
              "            title=\"Convert this dataframe to an interactive table.\"\n",
              "            style=\"display:none;\">\n",
              "\n",
              "  <svg xmlns=\"http://www.w3.org/2000/svg\" height=\"24px\" viewBox=\"0 -960 960 960\">\n",
              "    <path d=\"M120-120v-720h720v720H120Zm60-500h600v-160H180v160Zm220 220h160v-160H400v160Zm0 220h160v-160H400v160ZM180-400h160v-160H180v160Zm440 0h160v-160H620v160ZM180-180h160v-160H180v160Zm440 0h160v-160H620v160Z\"/>\n",
              "  </svg>\n",
              "    </button>\n",
              "\n",
              "  <style>\n",
              "    .colab-df-container {\n",
              "      display:flex;\n",
              "      gap: 12px;\n",
              "    }\n",
              "\n",
              "    .colab-df-convert {\n",
              "      background-color: #E8F0FE;\n",
              "      border: none;\n",
              "      border-radius: 50%;\n",
              "      cursor: pointer;\n",
              "      display: none;\n",
              "      fill: #1967D2;\n",
              "      height: 32px;\n",
              "      padding: 0 0 0 0;\n",
              "      width: 32px;\n",
              "    }\n",
              "\n",
              "    .colab-df-convert:hover {\n",
              "      background-color: #E2EBFA;\n",
              "      box-shadow: 0px 1px 2px rgba(60, 64, 67, 0.3), 0px 1px 3px 1px rgba(60, 64, 67, 0.15);\n",
              "      fill: #174EA6;\n",
              "    }\n",
              "\n",
              "    .colab-df-buttons div {\n",
              "      margin-bottom: 4px;\n",
              "    }\n",
              "\n",
              "    [theme=dark] .colab-df-convert {\n",
              "      background-color: #3B4455;\n",
              "      fill: #D2E3FC;\n",
              "    }\n",
              "\n",
              "    [theme=dark] .colab-df-convert:hover {\n",
              "      background-color: #434B5C;\n",
              "      box-shadow: 0px 1px 3px 1px rgba(0, 0, 0, 0.15);\n",
              "      filter: drop-shadow(0px 1px 2px rgba(0, 0, 0, 0.3));\n",
              "      fill: #FFFFFF;\n",
              "    }\n",
              "  </style>\n",
              "\n",
              "    <script>\n",
              "      const buttonEl =\n",
              "        document.querySelector('#df-41c48db0-7b5b-43c0-803f-b9b18bb7529c button.colab-df-convert');\n",
              "      buttonEl.style.display =\n",
              "        google.colab.kernel.accessAllowed ? 'block' : 'none';\n",
              "\n",
              "      async function convertToInteractive(key) {\n",
              "        const element = document.querySelector('#df-41c48db0-7b5b-43c0-803f-b9b18bb7529c');\n",
              "        const dataTable =\n",
              "          await google.colab.kernel.invokeFunction('convertToInteractive',\n",
              "                                                    [key], {});\n",
              "        if (!dataTable) return;\n",
              "\n",
              "        const docLinkHtml = 'Like what you see? Visit the ' +\n",
              "          '<a target=\"_blank\" href=https://colab.research.google.com/notebooks/data_table.ipynb>data table notebook</a>'\n",
              "          + ' to learn more about interactive tables.';\n",
              "        element.innerHTML = '';\n",
              "        dataTable['output_type'] = 'display_data';\n",
              "        await google.colab.output.renderOutput(dataTable, element);\n",
              "        const docLink = document.createElement('div');\n",
              "        docLink.innerHTML = docLinkHtml;\n",
              "        element.appendChild(docLink);\n",
              "      }\n",
              "    </script>\n",
              "  </div>\n",
              "\n",
              "\n",
              "<div id=\"df-a39e3bd3-bbcd-43b2-bed5-3bb7261f4c62\">\n",
              "  <button class=\"colab-df-quickchart\" onclick=\"quickchart('df-a39e3bd3-bbcd-43b2-bed5-3bb7261f4c62')\"\n",
              "            title=\"Suggest charts\"\n",
              "            style=\"display:none;\">\n",
              "\n",
              "<svg xmlns=\"http://www.w3.org/2000/svg\" height=\"24px\"viewBox=\"0 0 24 24\"\n",
              "     width=\"24px\">\n",
              "    <g>\n",
              "        <path d=\"M19 3H5c-1.1 0-2 .9-2 2v14c0 1.1.9 2 2 2h14c1.1 0 2-.9 2-2V5c0-1.1-.9-2-2-2zM9 17H7v-7h2v7zm4 0h-2V7h2v10zm4 0h-2v-4h2v4z\"/>\n",
              "    </g>\n",
              "</svg>\n",
              "  </button>\n",
              "\n",
              "<style>\n",
              "  .colab-df-quickchart {\n",
              "      --bg-color: #E8F0FE;\n",
              "      --fill-color: #1967D2;\n",
              "      --hover-bg-color: #E2EBFA;\n",
              "      --hover-fill-color: #174EA6;\n",
              "      --disabled-fill-color: #AAA;\n",
              "      --disabled-bg-color: #DDD;\n",
              "  }\n",
              "\n",
              "  [theme=dark] .colab-df-quickchart {\n",
              "      --bg-color: #3B4455;\n",
              "      --fill-color: #D2E3FC;\n",
              "      --hover-bg-color: #434B5C;\n",
              "      --hover-fill-color: #FFFFFF;\n",
              "      --disabled-bg-color: #3B4455;\n",
              "      --disabled-fill-color: #666;\n",
              "  }\n",
              "\n",
              "  .colab-df-quickchart {\n",
              "    background-color: var(--bg-color);\n",
              "    border: none;\n",
              "    border-radius: 50%;\n",
              "    cursor: pointer;\n",
              "    display: none;\n",
              "    fill: var(--fill-color);\n",
              "    height: 32px;\n",
              "    padding: 0;\n",
              "    width: 32px;\n",
              "  }\n",
              "\n",
              "  .colab-df-quickchart:hover {\n",
              "    background-color: var(--hover-bg-color);\n",
              "    box-shadow: 0 1px 2px rgba(60, 64, 67, 0.3), 0 1px 3px 1px rgba(60, 64, 67, 0.15);\n",
              "    fill: var(--button-hover-fill-color);\n",
              "  }\n",
              "\n",
              "  .colab-df-quickchart-complete:disabled,\n",
              "  .colab-df-quickchart-complete:disabled:hover {\n",
              "    background-color: var(--disabled-bg-color);\n",
              "    fill: var(--disabled-fill-color);\n",
              "    box-shadow: none;\n",
              "  }\n",
              "\n",
              "  .colab-df-spinner {\n",
              "    border: 2px solid var(--fill-color);\n",
              "    border-color: transparent;\n",
              "    border-bottom-color: var(--fill-color);\n",
              "    animation:\n",
              "      spin 1s steps(1) infinite;\n",
              "  }\n",
              "\n",
              "  @keyframes spin {\n",
              "    0% {\n",
              "      border-color: transparent;\n",
              "      border-bottom-color: var(--fill-color);\n",
              "      border-left-color: var(--fill-color);\n",
              "    }\n",
              "    20% {\n",
              "      border-color: transparent;\n",
              "      border-left-color: var(--fill-color);\n",
              "      border-top-color: var(--fill-color);\n",
              "    }\n",
              "    30% {\n",
              "      border-color: transparent;\n",
              "      border-left-color: var(--fill-color);\n",
              "      border-top-color: var(--fill-color);\n",
              "      border-right-color: var(--fill-color);\n",
              "    }\n",
              "    40% {\n",
              "      border-color: transparent;\n",
              "      border-right-color: var(--fill-color);\n",
              "      border-top-color: var(--fill-color);\n",
              "    }\n",
              "    60% {\n",
              "      border-color: transparent;\n",
              "      border-right-color: var(--fill-color);\n",
              "    }\n",
              "    80% {\n",
              "      border-color: transparent;\n",
              "      border-right-color: var(--fill-color);\n",
              "      border-bottom-color: var(--fill-color);\n",
              "    }\n",
              "    90% {\n",
              "      border-color: transparent;\n",
              "      border-bottom-color: var(--fill-color);\n",
              "    }\n",
              "  }\n",
              "</style>\n",
              "\n",
              "  <script>\n",
              "    async function quickchart(key) {\n",
              "      const quickchartButtonEl =\n",
              "        document.querySelector('#' + key + ' button');\n",
              "      quickchartButtonEl.disabled = true;  // To prevent multiple clicks.\n",
              "      quickchartButtonEl.classList.add('colab-df-spinner');\n",
              "      try {\n",
              "        const charts = await google.colab.kernel.invokeFunction(\n",
              "            'suggestCharts', [key], {});\n",
              "      } catch (error) {\n",
              "        console.error('Error during call to suggestCharts:', error);\n",
              "      }\n",
              "      quickchartButtonEl.classList.remove('colab-df-spinner');\n",
              "      quickchartButtonEl.classList.add('colab-df-quickchart-complete');\n",
              "    }\n",
              "    (() => {\n",
              "      let quickchartButtonEl =\n",
              "        document.querySelector('#df-a39e3bd3-bbcd-43b2-bed5-3bb7261f4c62 button');\n",
              "      quickchartButtonEl.style.display =\n",
              "        google.colab.kernel.accessAllowed ? 'block' : 'none';\n",
              "    })();\n",
              "  </script>\n",
              "</div>\n",
              "\n",
              "  <div id=\"id_8f41c752-58f0-4bdf-a7c0-0d6173e4582f\">\n",
              "    <style>\n",
              "      .colab-df-generate {\n",
              "        background-color: #E8F0FE;\n",
              "        border: none;\n",
              "        border-radius: 50%;\n",
              "        cursor: pointer;\n",
              "        display: none;\n",
              "        fill: #1967D2;\n",
              "        height: 32px;\n",
              "        padding: 0 0 0 0;\n",
              "        width: 32px;\n",
              "      }\n",
              "\n",
              "      .colab-df-generate:hover {\n",
              "        background-color: #E2EBFA;\n",
              "        box-shadow: 0px 1px 2px rgba(60, 64, 67, 0.3), 0px 1px 3px 1px rgba(60, 64, 67, 0.15);\n",
              "        fill: #174EA6;\n",
              "      }\n",
              "\n",
              "      [theme=dark] .colab-df-generate {\n",
              "        background-color: #3B4455;\n",
              "        fill: #D2E3FC;\n",
              "      }\n",
              "\n",
              "      [theme=dark] .colab-df-generate:hover {\n",
              "        background-color: #434B5C;\n",
              "        box-shadow: 0px 1px 3px 1px rgba(0, 0, 0, 0.15);\n",
              "        filter: drop-shadow(0px 1px 2px rgba(0, 0, 0, 0.3));\n",
              "        fill: #FFFFFF;\n",
              "      }\n",
              "    </style>\n",
              "    <button class=\"colab-df-generate\" onclick=\"generateWithVariable('df')\"\n",
              "            title=\"Generate code using this dataframe.\"\n",
              "            style=\"display:none;\">\n",
              "\n",
              "  <svg xmlns=\"http://www.w3.org/2000/svg\" height=\"24px\"viewBox=\"0 0 24 24\"\n",
              "       width=\"24px\">\n",
              "    <path d=\"M7,19H8.4L18.45,9,17,7.55,7,17.6ZM5,21V16.75L18.45,3.32a2,2,0,0,1,2.83,0l1.4,1.43a1.91,1.91,0,0,1,.58,1.4,1.91,1.91,0,0,1-.58,1.4L9.25,21ZM18.45,9,17,7.55Zm-12,3A5.31,5.31,0,0,0,4.9,8.1,5.31,5.31,0,0,0,1,6.5,5.31,5.31,0,0,0,4.9,4.9,5.31,5.31,0,0,0,6.5,1,5.31,5.31,0,0,0,8.1,4.9,5.31,5.31,0,0,0,12,6.5,5.46,5.46,0,0,0,6.5,12Z\"/>\n",
              "  </svg>\n",
              "    </button>\n",
              "    <script>\n",
              "      (() => {\n",
              "      const buttonEl =\n",
              "        document.querySelector('#id_8f41c752-58f0-4bdf-a7c0-0d6173e4582f button.colab-df-generate');\n",
              "      buttonEl.style.display =\n",
              "        google.colab.kernel.accessAllowed ? 'block' : 'none';\n",
              "\n",
              "      buttonEl.onclick = () => {\n",
              "        google.colab.notebook.generateWithVariable('df');\n",
              "      }\n",
              "      })();\n",
              "    </script>\n",
              "  </div>\n",
              "\n",
              "    </div>\n",
              "  </div>\n"
            ],
            "application/vnd.google.colaboratory.intrinsic+json": {
              "type": "dataframe",
              "variable_name": "df",
              "summary": "{\n  \"name\": \"df\",\n  \"rows\": 10,\n  \"fields\": [\n    {\n      \"column\": \"Tags\",\n      \"properties\": {\n        \"dtype\": \"string\",\n        \"num_unique_values\": 10,\n        \"samples\": [\n          \"VM\",\n          \"SYM\",\n          \"VAUX\"\n        ],\n        \"semantic_type\": \"\",\n        \"description\": \"\"\n      }\n    },\n    {\n      \"column\": \"Words\",\n      \"properties\": {\n        \"dtype\": \"string\",\n        \"num_unique_values\": 10,\n        \"samples\": [\n          \"\\u0939\\u094b\\u0924 \\u0939\\u094b\\u0924 \\u0915\\u0947\\u0932\\u0940 \\u0915\\u0947\\u0932\\u0947\",\n          \". , . . . , , . . . . . . .\",\n          \"\\u0939\\u094b\\u0924\\u094d\\u092f\\u093e \\u0939\\u094b\\u0924\\u0947 \\u0939\\u094b\\u0924\\u0940 \\u0939\\u094b\\u0924\\u0940 \\u0905\\u0938\\u0942\\u0928 \\u0905\\u0938\\u0924\"\n        ],\n        \"semantic_type\": \"\",\n        \"description\": \"\"\n      }\n    },\n    {\n      \"column\": \"Count\",\n      \"properties\": {\n        \"dtype\": \"number\",\n        \"std\": 14,\n        \"min\": 1,\n        \"max\": 50,\n        \"num_unique_values\": 9,\n        \"samples\": [\n          4,\n          14,\n          2\n        ],\n        \"semantic_type\": \"\",\n        \"description\": \"\"\n      }\n    }\n  ]\n}"
            }
          },
          "metadata": {},
          "execution_count": 20
        }
      ],
      "source": [
        "import nltk\n",
        "nltk.download('punkt')\n",
        "\n",
        "df = get_POS(word_tokenize(list))  #With the help of nltk.tokenize.word_tokenize() method, we are able to extract the tokens from string of characters\n",
        "df"
      ]
    },
    {
      "cell_type": "code",
      "execution_count": 21,
      "metadata": {
        "id": "ZDOfjUo1FaMG"
      },
      "outputs": [],
      "source": [
        "list1=\"जॉन 'माल्कम फ्रेझर' हा ऑस्ट्रेलियाचा बाविसावा पंतप्रधान होता. हा १९७५ ते १९८३ दरम्यान सत्तेवर होता.\""
      ]
    },
    {
      "cell_type": "code",
      "execution_count": 22,
      "metadata": {
        "colab": {
          "base_uri": "https://localhost:8080/",
          "height": 269
        },
        "id": "IFLDhkNHFaMG",
        "outputId": "4aa045a9-9840-4d1d-dd4a-df5f5a8716bb"
      },
      "outputs": [
        {
          "output_type": "execute_result",
          "data": {
            "text/plain": [
              "   Tags                                                            Words  Count\n",
              "0    NN  जॉन माल्कम फ्रेझर ऑस्ट्रेलियाचा बाविसावा पंतप्रधान १९७५ सत्तेवर      8\n",
              "1   SYM                                                          ' ' . .      4\n",
              "2   DEM                                                            हा हा      2\n",
              "3  VAUX                                                        होता होता      2\n",
              "4   PRP                                                               ते      1\n",
              "5   NNP                                                             १९८३      1\n",
              "6   NST                                                          दरम्यान      1"
            ],
            "text/html": [
              "\n",
              "  <div id=\"df-69cbd847-5ec5-4f49-82c6-8aeb3f8df935\" class=\"colab-df-container\">\n",
              "    <div>\n",
              "<style scoped>\n",
              "    .dataframe tbody tr th:only-of-type {\n",
              "        vertical-align: middle;\n",
              "    }\n",
              "\n",
              "    .dataframe tbody tr th {\n",
              "        vertical-align: top;\n",
              "    }\n",
              "\n",
              "    .dataframe thead th {\n",
              "        text-align: right;\n",
              "    }\n",
              "</style>\n",
              "<table border=\"1\" class=\"dataframe\">\n",
              "  <thead>\n",
              "    <tr style=\"text-align: right;\">\n",
              "      <th></th>\n",
              "      <th>Tags</th>\n",
              "      <th>Words</th>\n",
              "      <th>Count</th>\n",
              "    </tr>\n",
              "  </thead>\n",
              "  <tbody>\n",
              "    <tr>\n",
              "      <th>0</th>\n",
              "      <td>NN</td>\n",
              "      <td>जॉन माल्कम फ्रेझर ऑस्ट्रेलियाचा बाविसावा पंतप्रधान १९७५ सत्तेवर</td>\n",
              "      <td>8</td>\n",
              "    </tr>\n",
              "    <tr>\n",
              "      <th>1</th>\n",
              "      <td>SYM</td>\n",
              "      <td>' ' . .</td>\n",
              "      <td>4</td>\n",
              "    </tr>\n",
              "    <tr>\n",
              "      <th>2</th>\n",
              "      <td>DEM</td>\n",
              "      <td>हा हा</td>\n",
              "      <td>2</td>\n",
              "    </tr>\n",
              "    <tr>\n",
              "      <th>3</th>\n",
              "      <td>VAUX</td>\n",
              "      <td>होता होता</td>\n",
              "      <td>2</td>\n",
              "    </tr>\n",
              "    <tr>\n",
              "      <th>4</th>\n",
              "      <td>PRP</td>\n",
              "      <td>ते</td>\n",
              "      <td>1</td>\n",
              "    </tr>\n",
              "    <tr>\n",
              "      <th>5</th>\n",
              "      <td>NNP</td>\n",
              "      <td>१९८३</td>\n",
              "      <td>1</td>\n",
              "    </tr>\n",
              "    <tr>\n",
              "      <th>6</th>\n",
              "      <td>NST</td>\n",
              "      <td>दरम्यान</td>\n",
              "      <td>1</td>\n",
              "    </tr>\n",
              "  </tbody>\n",
              "</table>\n",
              "</div>\n",
              "    <div class=\"colab-df-buttons\">\n",
              "\n",
              "  <div class=\"colab-df-container\">\n",
              "    <button class=\"colab-df-convert\" onclick=\"convertToInteractive('df-69cbd847-5ec5-4f49-82c6-8aeb3f8df935')\"\n",
              "            title=\"Convert this dataframe to an interactive table.\"\n",
              "            style=\"display:none;\">\n",
              "\n",
              "  <svg xmlns=\"http://www.w3.org/2000/svg\" height=\"24px\" viewBox=\"0 -960 960 960\">\n",
              "    <path d=\"M120-120v-720h720v720H120Zm60-500h600v-160H180v160Zm220 220h160v-160H400v160Zm0 220h160v-160H400v160ZM180-400h160v-160H180v160Zm440 0h160v-160H620v160ZM180-180h160v-160H180v160Zm440 0h160v-160H620v160Z\"/>\n",
              "  </svg>\n",
              "    </button>\n",
              "\n",
              "  <style>\n",
              "    .colab-df-container {\n",
              "      display:flex;\n",
              "      gap: 12px;\n",
              "    }\n",
              "\n",
              "    .colab-df-convert {\n",
              "      background-color: #E8F0FE;\n",
              "      border: none;\n",
              "      border-radius: 50%;\n",
              "      cursor: pointer;\n",
              "      display: none;\n",
              "      fill: #1967D2;\n",
              "      height: 32px;\n",
              "      padding: 0 0 0 0;\n",
              "      width: 32px;\n",
              "    }\n",
              "\n",
              "    .colab-df-convert:hover {\n",
              "      background-color: #E2EBFA;\n",
              "      box-shadow: 0px 1px 2px rgba(60, 64, 67, 0.3), 0px 1px 3px 1px rgba(60, 64, 67, 0.15);\n",
              "      fill: #174EA6;\n",
              "    }\n",
              "\n",
              "    .colab-df-buttons div {\n",
              "      margin-bottom: 4px;\n",
              "    }\n",
              "\n",
              "    [theme=dark] .colab-df-convert {\n",
              "      background-color: #3B4455;\n",
              "      fill: #D2E3FC;\n",
              "    }\n",
              "\n",
              "    [theme=dark] .colab-df-convert:hover {\n",
              "      background-color: #434B5C;\n",
              "      box-shadow: 0px 1px 3px 1px rgba(0, 0, 0, 0.15);\n",
              "      filter: drop-shadow(0px 1px 2px rgba(0, 0, 0, 0.3));\n",
              "      fill: #FFFFFF;\n",
              "    }\n",
              "  </style>\n",
              "\n",
              "    <script>\n",
              "      const buttonEl =\n",
              "        document.querySelector('#df-69cbd847-5ec5-4f49-82c6-8aeb3f8df935 button.colab-df-convert');\n",
              "      buttonEl.style.display =\n",
              "        google.colab.kernel.accessAllowed ? 'block' : 'none';\n",
              "\n",
              "      async function convertToInteractive(key) {\n",
              "        const element = document.querySelector('#df-69cbd847-5ec5-4f49-82c6-8aeb3f8df935');\n",
              "        const dataTable =\n",
              "          await google.colab.kernel.invokeFunction('convertToInteractive',\n",
              "                                                    [key], {});\n",
              "        if (!dataTable) return;\n",
              "\n",
              "        const docLinkHtml = 'Like what you see? Visit the ' +\n",
              "          '<a target=\"_blank\" href=https://colab.research.google.com/notebooks/data_table.ipynb>data table notebook</a>'\n",
              "          + ' to learn more about interactive tables.';\n",
              "        element.innerHTML = '';\n",
              "        dataTable['output_type'] = 'display_data';\n",
              "        await google.colab.output.renderOutput(dataTable, element);\n",
              "        const docLink = document.createElement('div');\n",
              "        docLink.innerHTML = docLinkHtml;\n",
              "        element.appendChild(docLink);\n",
              "      }\n",
              "    </script>\n",
              "  </div>\n",
              "\n",
              "\n",
              "<div id=\"df-a53616fd-477d-45f5-819a-a1b733e5bab9\">\n",
              "  <button class=\"colab-df-quickchart\" onclick=\"quickchart('df-a53616fd-477d-45f5-819a-a1b733e5bab9')\"\n",
              "            title=\"Suggest charts\"\n",
              "            style=\"display:none;\">\n",
              "\n",
              "<svg xmlns=\"http://www.w3.org/2000/svg\" height=\"24px\"viewBox=\"0 0 24 24\"\n",
              "     width=\"24px\">\n",
              "    <g>\n",
              "        <path d=\"M19 3H5c-1.1 0-2 .9-2 2v14c0 1.1.9 2 2 2h14c1.1 0 2-.9 2-2V5c0-1.1-.9-2-2-2zM9 17H7v-7h2v7zm4 0h-2V7h2v10zm4 0h-2v-4h2v4z\"/>\n",
              "    </g>\n",
              "</svg>\n",
              "  </button>\n",
              "\n",
              "<style>\n",
              "  .colab-df-quickchart {\n",
              "      --bg-color: #E8F0FE;\n",
              "      --fill-color: #1967D2;\n",
              "      --hover-bg-color: #E2EBFA;\n",
              "      --hover-fill-color: #174EA6;\n",
              "      --disabled-fill-color: #AAA;\n",
              "      --disabled-bg-color: #DDD;\n",
              "  }\n",
              "\n",
              "  [theme=dark] .colab-df-quickchart {\n",
              "      --bg-color: #3B4455;\n",
              "      --fill-color: #D2E3FC;\n",
              "      --hover-bg-color: #434B5C;\n",
              "      --hover-fill-color: #FFFFFF;\n",
              "      --disabled-bg-color: #3B4455;\n",
              "      --disabled-fill-color: #666;\n",
              "  }\n",
              "\n",
              "  .colab-df-quickchart {\n",
              "    background-color: var(--bg-color);\n",
              "    border: none;\n",
              "    border-radius: 50%;\n",
              "    cursor: pointer;\n",
              "    display: none;\n",
              "    fill: var(--fill-color);\n",
              "    height: 32px;\n",
              "    padding: 0;\n",
              "    width: 32px;\n",
              "  }\n",
              "\n",
              "  .colab-df-quickchart:hover {\n",
              "    background-color: var(--hover-bg-color);\n",
              "    box-shadow: 0 1px 2px rgba(60, 64, 67, 0.3), 0 1px 3px 1px rgba(60, 64, 67, 0.15);\n",
              "    fill: var(--button-hover-fill-color);\n",
              "  }\n",
              "\n",
              "  .colab-df-quickchart-complete:disabled,\n",
              "  .colab-df-quickchart-complete:disabled:hover {\n",
              "    background-color: var(--disabled-bg-color);\n",
              "    fill: var(--disabled-fill-color);\n",
              "    box-shadow: none;\n",
              "  }\n",
              "\n",
              "  .colab-df-spinner {\n",
              "    border: 2px solid var(--fill-color);\n",
              "    border-color: transparent;\n",
              "    border-bottom-color: var(--fill-color);\n",
              "    animation:\n",
              "      spin 1s steps(1) infinite;\n",
              "  }\n",
              "\n",
              "  @keyframes spin {\n",
              "    0% {\n",
              "      border-color: transparent;\n",
              "      border-bottom-color: var(--fill-color);\n",
              "      border-left-color: var(--fill-color);\n",
              "    }\n",
              "    20% {\n",
              "      border-color: transparent;\n",
              "      border-left-color: var(--fill-color);\n",
              "      border-top-color: var(--fill-color);\n",
              "    }\n",
              "    30% {\n",
              "      border-color: transparent;\n",
              "      border-left-color: var(--fill-color);\n",
              "      border-top-color: var(--fill-color);\n",
              "      border-right-color: var(--fill-color);\n",
              "    }\n",
              "    40% {\n",
              "      border-color: transparent;\n",
              "      border-right-color: var(--fill-color);\n",
              "      border-top-color: var(--fill-color);\n",
              "    }\n",
              "    60% {\n",
              "      border-color: transparent;\n",
              "      border-right-color: var(--fill-color);\n",
              "    }\n",
              "    80% {\n",
              "      border-color: transparent;\n",
              "      border-right-color: var(--fill-color);\n",
              "      border-bottom-color: var(--fill-color);\n",
              "    }\n",
              "    90% {\n",
              "      border-color: transparent;\n",
              "      border-bottom-color: var(--fill-color);\n",
              "    }\n",
              "  }\n",
              "</style>\n",
              "\n",
              "  <script>\n",
              "    async function quickchart(key) {\n",
              "      const quickchartButtonEl =\n",
              "        document.querySelector('#' + key + ' button');\n",
              "      quickchartButtonEl.disabled = true;  // To prevent multiple clicks.\n",
              "      quickchartButtonEl.classList.add('colab-df-spinner');\n",
              "      try {\n",
              "        const charts = await google.colab.kernel.invokeFunction(\n",
              "            'suggestCharts', [key], {});\n",
              "      } catch (error) {\n",
              "        console.error('Error during call to suggestCharts:', error);\n",
              "      }\n",
              "      quickchartButtonEl.classList.remove('colab-df-spinner');\n",
              "      quickchartButtonEl.classList.add('colab-df-quickchart-complete');\n",
              "    }\n",
              "    (() => {\n",
              "      let quickchartButtonEl =\n",
              "        document.querySelector('#df-a53616fd-477d-45f5-819a-a1b733e5bab9 button');\n",
              "      quickchartButtonEl.style.display =\n",
              "        google.colab.kernel.accessAllowed ? 'block' : 'none';\n",
              "    })();\n",
              "  </script>\n",
              "</div>\n",
              "\n",
              "  <div id=\"id_b1657f3f-1a9e-4375-9f54-2c7bc645f4f9\">\n",
              "    <style>\n",
              "      .colab-df-generate {\n",
              "        background-color: #E8F0FE;\n",
              "        border: none;\n",
              "        border-radius: 50%;\n",
              "        cursor: pointer;\n",
              "        display: none;\n",
              "        fill: #1967D2;\n",
              "        height: 32px;\n",
              "        padding: 0 0 0 0;\n",
              "        width: 32px;\n",
              "      }\n",
              "\n",
              "      .colab-df-generate:hover {\n",
              "        background-color: #E2EBFA;\n",
              "        box-shadow: 0px 1px 2px rgba(60, 64, 67, 0.3), 0px 1px 3px 1px rgba(60, 64, 67, 0.15);\n",
              "        fill: #174EA6;\n",
              "      }\n",
              "\n",
              "      [theme=dark] .colab-df-generate {\n",
              "        background-color: #3B4455;\n",
              "        fill: #D2E3FC;\n",
              "      }\n",
              "\n",
              "      [theme=dark] .colab-df-generate:hover {\n",
              "        background-color: #434B5C;\n",
              "        box-shadow: 0px 1px 3px 1px rgba(0, 0, 0, 0.15);\n",
              "        filter: drop-shadow(0px 1px 2px rgba(0, 0, 0, 0.3));\n",
              "        fill: #FFFFFF;\n",
              "      }\n",
              "    </style>\n",
              "    <button class=\"colab-df-generate\" onclick=\"generateWithVariable('df')\"\n",
              "            title=\"Generate code using this dataframe.\"\n",
              "            style=\"display:none;\">\n",
              "\n",
              "  <svg xmlns=\"http://www.w3.org/2000/svg\" height=\"24px\"viewBox=\"0 0 24 24\"\n",
              "       width=\"24px\">\n",
              "    <path d=\"M7,19H8.4L18.45,9,17,7.55,7,17.6ZM5,21V16.75L18.45,3.32a2,2,0,0,1,2.83,0l1.4,1.43a1.91,1.91,0,0,1,.58,1.4,1.91,1.91,0,0,1-.58,1.4L9.25,21ZM18.45,9,17,7.55Zm-12,3A5.31,5.31,0,0,0,4.9,8.1,5.31,5.31,0,0,0,1,6.5,5.31,5.31,0,0,0,4.9,4.9,5.31,5.31,0,0,0,6.5,1,5.31,5.31,0,0,0,8.1,4.9,5.31,5.31,0,0,0,12,6.5,5.46,5.46,0,0,0,6.5,12Z\"/>\n",
              "  </svg>\n",
              "    </button>\n",
              "    <script>\n",
              "      (() => {\n",
              "      const buttonEl =\n",
              "        document.querySelector('#id_b1657f3f-1a9e-4375-9f54-2c7bc645f4f9 button.colab-df-generate');\n",
              "      buttonEl.style.display =\n",
              "        google.colab.kernel.accessAllowed ? 'block' : 'none';\n",
              "\n",
              "      buttonEl.onclick = () => {\n",
              "        google.colab.notebook.generateWithVariable('df');\n",
              "      }\n",
              "      })();\n",
              "    </script>\n",
              "  </div>\n",
              "\n",
              "    </div>\n",
              "  </div>\n"
            ],
            "application/vnd.google.colaboratory.intrinsic+json": {
              "type": "dataframe",
              "variable_name": "df",
              "summary": "{\n  \"name\": \"df\",\n  \"rows\": 7,\n  \"fields\": [\n    {\n      \"column\": \"Tags\",\n      \"properties\": {\n        \"dtype\": \"string\",\n        \"num_unique_values\": 7,\n        \"samples\": [\n          \"NN\",\n          \"SYM\",\n          \"NNP\"\n        ],\n        \"semantic_type\": \"\",\n        \"description\": \"\"\n      }\n    },\n    {\n      \"column\": \"Words\",\n      \"properties\": {\n        \"dtype\": \"string\",\n        \"num_unique_values\": 7,\n        \"samples\": [\n          \"\\u091c\\u0949\\u0928 \\u092e\\u093e\\u0932\\u094d\\u0915\\u092e \\u092b\\u094d\\u0930\\u0947\\u091d\\u0930 \\u0911\\u0938\\u094d\\u091f\\u094d\\u0930\\u0947\\u0932\\u093f\\u092f\\u093e\\u091a\\u093e \\u092c\\u093e\\u0935\\u093f\\u0938\\u093e\\u0935\\u093e \\u092a\\u0902\\u0924\\u092a\\u094d\\u0930\\u0927\\u093e\\u0928 \\u0967\\u096f\\u096d\\u096b \\u0938\\u0924\\u094d\\u0924\\u0947\\u0935\\u0930\",\n          \"' ' . .\",\n          \"\\u0967\\u096f\\u096e\\u0969\"\n        ],\n        \"semantic_type\": \"\",\n        \"description\": \"\"\n      }\n    },\n    {\n      \"column\": \"Count\",\n      \"properties\": {\n        \"dtype\": \"number\",\n        \"std\": 2,\n        \"min\": 1,\n        \"max\": 8,\n        \"num_unique_values\": 4,\n        \"samples\": [\n          4,\n          1,\n          8\n        ],\n        \"semantic_type\": \"\",\n        \"description\": \"\"\n      }\n    }\n  ]\n}"
            }
          },
          "metadata": {},
          "execution_count": 22
        }
      ],
      "source": [
        "df = get_POS(word_tokenize(list1))\n",
        "df"
      ]
    },
    {
      "cell_type": "code",
      "execution_count": null,
      "metadata": {
        "id": "jdQQPKLRFaMG"
      },
      "outputs": [],
      "source": []
    }
  ],
  "metadata": {
    "kernelspec": {
      "display_name": "Python 3 (ipykernel)",
      "language": "python",
      "name": "python3"
    },
    "language_info": {
      "codemirror_mode": {
        "name": "ipython",
        "version": 3
      },
      "file_extension": ".py",
      "mimetype": "text/x-python",
      "name": "python",
      "nbconvert_exporter": "python",
      "pygments_lexer": "ipython3",
      "version": "3.10.9"
    },
    "colab": {
      "provenance": [],
      "include_colab_link": true
    }
  },
  "nbformat": 4,
  "nbformat_minor": 0
}